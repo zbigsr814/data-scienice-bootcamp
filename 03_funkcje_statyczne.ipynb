{
  "nbformat": 4,
  "nbformat_minor": 0,
  "metadata": {
    "colab": {
      "provenance": [],
      "collapsed_sections": [],
      "authorship_tag": "ABX9TyMtZwJ7EzHdwD3d4a78M0hM",
      "include_colab_link": true
    },
    "kernelspec": {
      "name": "python3",
      "display_name": "Python 3"
    },
    "language_info": {
      "name": "python"
    }
  },
  "cells": [
    {
      "cell_type": "markdown",
      "metadata": {
        "id": "view-in-github",
        "colab_type": "text"
      },
      "source": [
        "<a href=\"https://colab.research.google.com/github/zbigsr814/data-scienice-bootcamp/blob/main/03_funkcje_statyczne.ipynb\" target=\"_parent\"><img src=\"https://colab.research.google.com/assets/colab-badge.svg\" alt=\"Open In Colab\"/></a>"
      ]
    },
    {
      "cell_type": "code",
      "execution_count": 3,
      "metadata": {
        "colab": {
          "base_uri": "https://localhost:8080/"
        },
        "id": "OVbP4GJJ5fr-",
        "outputId": "62c74316-4795-4229-8e4d-a236c51c139c"
      },
      "outputs": [
        {
          "output_type": "stream",
          "name": "stdout",
          "text": [
            "[[33.   3.   0.2]\n",
            " [34.   9.   1.2]\n",
            " [35.   7.   0.5]\n",
            " [36.   4.   0.3]]\n"
          ]
        }
      ],
      "source": [
        "import numpy as np\n",
        "A = np.array([[33,3,0.2],\n",
        "              [34,9,1.2],\n",
        "              [35,7,0.5],\n",
        "              [36,4,0.3]])\n",
        "print(A)"
      ]
    },
    {
      "cell_type": "code",
      "source": [
        "np.sum(A, axis=0)"
      ],
      "metadata": {
        "colab": {
          "base_uri": "https://localhost:8080/"
        },
        "id": "qe4kBLLd7J5a",
        "outputId": "4c7b99f5-fd54-4b54-9b25-3466ba77e1ad"
      },
      "execution_count": 8,
      "outputs": [
        {
          "output_type": "execute_result",
          "data": {
            "text/plain": [
              "array([138. ,  23. ,   2.2])"
            ]
          },
          "metadata": {},
          "execution_count": 8
        }
      ]
    },
    {
      "cell_type": "code",
      "source": [
        "np.min(A, axis=0)"
      ],
      "metadata": {
        "colab": {
          "base_uri": "https://localhost:8080/"
        },
        "id": "khcCCUAj7tQ2",
        "outputId": "b110697d-e158-4613-8553-32d2767404c6"
      },
      "execution_count": 9,
      "outputs": [
        {
          "output_type": "execute_result",
          "data": {
            "text/plain": [
              "array([33. ,  3. ,  0.2])"
            ]
          },
          "metadata": {},
          "execution_count": 9
        }
      ]
    },
    {
      "cell_type": "code",
      "source": [
        "np.median(A, axis=0)"
      ],
      "metadata": {
        "colab": {
          "base_uri": "https://localhost:8080/"
        },
        "id": "Kd5no0jR8Dj1",
        "outputId": "323055e4-3efb-4611-9b6e-9e0860cc33d4"
      },
      "execution_count": 11,
      "outputs": [
        {
          "output_type": "execute_result",
          "data": {
            "text/plain": [
              "array([34.5,  5.5,  0.4])"
            ]
          },
          "metadata": {},
          "execution_count": 11
        }
      ]
    },
    {
      "cell_type": "code",
      "source": [
        "np.std(A, axis=0)"
      ],
      "metadata": {
        "colab": {
          "base_uri": "https://localhost:8080/"
        },
        "id": "oJmYb31D8IZ-",
        "outputId": "924a11c7-da67-4ddd-9496-14a4a74b6642"
      },
      "execution_count": 12,
      "outputs": [
        {
          "output_type": "execute_result",
          "data": {
            "text/plain": [
              "array([1.11803399, 2.384848  , 0.39051248])"
            ]
          },
          "metadata": {},
          "execution_count": 12
        }
      ]
    },
    {
      "cell_type": "code",
      "source": [
        "np.var(A, axis=0)"
      ],
      "metadata": {
        "colab": {
          "base_uri": "https://localhost:8080/"
        },
        "id": "2TBFQLFz8Qz4",
        "outputId": "c93a38d2-0e9f-4092-d9f3-8dc070305d04"
      },
      "execution_count": 13,
      "outputs": [
        {
          "output_type": "execute_result",
          "data": {
            "text/plain": [
              "array([1.25  , 5.6875, 0.1525])"
            ]
          },
          "metadata": {},
          "execution_count": 13
        }
      ]
    },
    {
      "cell_type": "code",
      "source": [],
      "metadata": {
        "id": "fjpHN6PT8V39"
      },
      "execution_count": null,
      "outputs": []
    }
  ]
}